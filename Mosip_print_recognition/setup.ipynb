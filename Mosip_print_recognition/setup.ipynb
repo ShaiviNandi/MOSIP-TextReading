{
 "cells": [
  {
   "cell_type": "code",
   "execution_count": null,
   "id": "cf28a7ed",
   "metadata": {},
   "outputs": [],
   "source": [
    "!pip3 install torch torchvision"
   ]
  },
  {
   "cell_type": "code",
   "execution_count": null,
   "id": "84ac1227",
   "metadata": {},
   "outputs": [],
   "source": [
    "!pip install easyocr"
   ]
  },
  {
   "cell_type": "code",
   "execution_count": null,
   "id": "c2ac87df",
   "metadata": {},
   "outputs": [],
   "source": [
    "import easyocr\n",
    "import cv2\n",
    "import numpy as np\n",
    "from matplotlib import pyplot as plt\n",
    "import torch\n",
    "import json\n"
   ]
  },
  {
   "cell_type": "code",
   "execution_count": null,
   "id": "b48389bd",
   "metadata": {},
   "outputs": [],
   "source": [
    "IMAGE_PATH = 'Images\\i1.png'"
   ]
  },
  {
   "cell_type": "code",
   "execution_count": null,
   "id": "d6cbffe7",
   "metadata": {},
   "outputs": [],
   "source": [
    "# Process image and extract text\n",
    "reader = easyocr.Reader(['en'], gpu=torch.cuda.is_available())\n",
    "result = reader.readtext(IMAGE_PATH,width_ths=0.7)  # width_ths=0.7 for better grouping of characters without this the field inputs get split into multiple slices\n",
    "print(result)"
   ]
  },
  {
   "cell_type": "code",
   "execution_count": null,
   "id": "36fecb00",
   "metadata": {},
   "outputs": [],
   "source": [
    "def get_y_coordinate(item):\n",
    "    return item[0][0][1]"
   ]
  },
  {
   "cell_type": "code",
   "execution_count": null,
   "id": "3dc13fca",
   "metadata": {},
   "outputs": [],
   "source": [
    "# Sort all results by their y-coordinate first\n",
    "sorted_results = sorted(result, key=get_y_coordinate)\n",
    "\n",
    "# Group text into lines by first checking the y-coordinate proximity and then sorting by x-coordinate within each line\n",
    "lines = []\n",
    "if sorted_results:\n",
    "    current_line = [sorted_results[0]]\n",
    "    for i in range(1, len(sorted_results)):\n",
    "        # Define a vertical threshold = half of the height of the first text in the line\n",
    "        # Use the y-coordinate of the first item in the current line as a reference\n",
    "        if abs(get_y_coordinate(sorted_results[i]) - get_y_coordinate(current_line[0])) < (current_line[0][0][3][1]-current_line[0][0][0][1])/2:\n",
    "            current_line.append(sorted_results[i])\n",
    "        else:\n",
    "            lines.append(sorted(current_line, key=lambda x: x[0][0][0]))  # Sort current line by x-coordinate\n",
    "            current_line = [sorted_results[i]]\n",
    "    lines.append(sorted(current_line, key=lambda x: x[0][0][0])) # Sort and add the last line"
   ]
  },
  {
   "cell_type": "code",
   "execution_count": null,
   "id": "2e773990",
   "metadata": {},
   "outputs": [],
   "source": [
    "#view output for debugging. REMOVE IN FINAL CODE\n",
    "print(\"\\nExtracted Text by Lines:\")\n",
    "for line in lines:\n",
    "    line_text = ':'.join([item[1] for item in line])\n",
    "    print(line_text)"
   ]
  },
  {
   "cell_type": "code",
   "execution_count": null,
   "id": "a85a20b7",
   "metadata": {},
   "outputs": [],
   "source": [
    "# crude json output extraction\n",
    "extracted_data = {}\n",
    "for line in lines:          \n",
    "    if len(line) >= 2:\n",
    "        label = line[0][1]\n",
    "        value = line[1][1]\n",
    "        extracted_data[label] = value # detected labels should be unique "
   ]
  },
  {
   "cell_type": "code",
   "execution_count": null,
   "id": "10df58de",
   "metadata": {},
   "outputs": [],
   "source": [
    "output_json_path = 'extracted_data.json'\n",
    "\n",
    "# Write the dictionary to a JSON file\n",
    "with open(output_json_path, 'w') as json_file:\n",
    "    json.dump(extracted_data, json_file, indent=4)\n",
    "\n",
    "print(f\"Data successfully saved to {output_json_path}\")"
   ]
  }
 ],
 "metadata": {
  "kernelspec": {
   "display_name": "Python 3",
   "language": "python",
   "name": "python3"
  },
  "language_info": {
   "codemirror_mode": {
    "name": "ipython",
    "version": 3
   },
   "file_extension": ".py",
   "mimetype": "text/x-python",
   "name": "python",
   "nbconvert_exporter": "python",
   "pygments_lexer": "ipython3",
   "version": "3.13.7"
  }
 },
 "nbformat": 4,
 "nbformat_minor": 5
}
