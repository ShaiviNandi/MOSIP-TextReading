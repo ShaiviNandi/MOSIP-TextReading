{
 "cells": [
  {
   "cell_type": "code",
   "execution_count": null,
   "id": "cf28a7ed",
   "metadata": {},
   "outputs": [],
   "source": [
    "!pip3 install torch torchvision"
   ]
  },
  {
   "cell_type": "code",
   "execution_count": null,
   "id": "84ac1227",
   "metadata": {},
   "outputs": [],
   "source": [
    "!pip install easyocr"
   ]
  },
  {
   "cell_type": "code",
   "execution_count": 4,
   "id": "c2ac87df",
   "metadata": {},
   "outputs": [],
   "source": [
    "import easyocr\n",
    "import cv2\n",
    "import numpy as np\n",
    "from matplotlib import pyplot as plt\n",
    "import torch\n"
   ]
  },
  {
   "cell_type": "code",
   "execution_count": 5,
   "id": "b48389bd",
   "metadata": {},
   "outputs": [
    {
     "name": "stderr",
     "output_type": "stream",
     "text": [
      "<>:1: SyntaxWarning: invalid escape sequence '\\i'\n",
      "<>:1: SyntaxWarning: invalid escape sequence '\\i'\n",
      "C:\\Users\\parth\\AppData\\Local\\Temp\\ipykernel_56348\\3536030256.py:1: SyntaxWarning: invalid escape sequence '\\i'\n",
      "  IMAGE_PATH = 'Images\\i1.png'\n"
     ]
    }
   ],
   "source": [
    "IMAGE_PATH = 'Images\\i1.png'"
   ]
  },
  {
   "cell_type": "code",
   "execution_count": 6,
   "id": "d6cbffe7",
   "metadata": {},
   "outputs": [
    {
     "name": "stdout",
     "output_type": "stream",
     "text": [
      "[([[np.int32(354), np.int32(70)], [np.int32(582), np.int32(70)], [np.int32(582), np.int32(102)], [np.int32(354), np.int32(102)]], 'Registration Form', np.float64(0.9970840945242694)), ([[np.int32(87), np.int32(187)], [np.int32(143), np.int32(187)], [np.int32(143), np.int32(207)], [np.int32(87), np.int32(207)]], 'Name', np.float64(0.9999589920043945)), ([[np.int32(267), np.int32(185)], [np.int32(408), np.int32(185)], [np.int32(408), np.int32(212)], [np.int32(267), np.int32(212)]], 'Ananya Sharma', np.float64(0.9997417454749693)), ([[np.int32(86), np.int32(254)], [np.int32(128), np.int32(254)], [np.int32(128), np.int32(280)], [np.int32(86), np.int32(280)]], 'Age', np.float64(0.9999949069135972)), ([[np.int32(267), np.int32(255)], [np.int32(291), np.int32(255)], [np.int32(291), np.int32(275)], [np.int32(267), np.int32(275)]], '29', np.float64(0.9999924135756967)), ([[np.int32(86), np.int32(320)], [np.int32(160), np.int32(320)], [np.int32(160), np.int32(344)], [np.int32(86), np.int32(344)]], 'Gender', np.float64(0.9999972259807813)), ([[np.int32(266), np.int32(320)], [np.int32(336), np.int32(320)], [np.int32(336), np.int32(344)], [np.int32(266), np.int32(344)]], 'Female', np.float64(0.7117984152546006)), ([[np.int32(86), np.int32(388)], [np.int32(168), np.int32(388)], [np.int32(168), np.int32(412)], [np.int32(86), np.int32(412)]], 'Address', np.float64(0.9999961701631463)), ([[np.int32(266), np.int32(386)], [np.int32(672), np.int32(386)], [np.int32(672), np.int32(416)], [np.int32(266), np.int32(416)]], '123, MG Road; Bengaluru; Karnataka - 560001', np.float64(0.6668126189353649)), ([[np.int32(86), np.int32(456)], [np.int32(164), np.int32(456)], [np.int32(164), np.int32(480)], [np.int32(86), np.int32(480)]], 'Email Id', np.float64(0.9922705345796804)), ([[np.int32(265), np.int32(456)], [np.int32(536), np.int32(456)], [np.int32(536), np.int32(483)], [np.int32(265), np.int32(483)]], 'ananya sharma@example.com', np.float64(0.9595475969146037)), ([[np.int32(85), np.int32(522)], [np.int32(226), np.int32(522)], [np.int32(226), np.int32(548)], [np.int32(85), np.int32(548)]], 'Phone number', np.float64(0.9955103559712312)), ([[np.int32(267), np.int32(525)], [np.int32(417), np.int32(525)], [np.int32(417), np.int32(545)], [np.int32(267), np.int32(545)]], '+91-9876543210', np.float64(0.45906363324348953))]\n"
     ]
    }
   ],
   "source": [
    "# Process image and extract text\n",
    "reader = easyocr.Reader(['en'], gpu=torch.cuda.is_available())\n",
    "result = reader.readtext(IMAGE_PATH,width_ths=0.7)  # width_ths=0.7 for better grouping of characters\n",
    "print(result)"
   ]
  },
  {
   "cell_type": "code",
   "execution_count": 7,
   "id": "36fecb00",
   "metadata": {},
   "outputs": [],
   "source": [
    "def get_y_coordinate(item):\n",
    "    return item[0][0][1]"
   ]
  },
  {
   "cell_type": "code",
   "execution_count": 8,
   "id": "3dc13fca",
   "metadata": {},
   "outputs": [],
   "source": [
    "# Sort all results by their y-coordinate first\n",
    "sorted_results = sorted(result, key=get_y_coordinate)\n",
    "\n",
    "# Group text into lines by first checking the y-coordinate proximity and then sorting by x-coordinate within each line\n",
    "lines = []\n",
    "if sorted_results:\n",
    "    current_line = [sorted_results[0]]\n",
    "    for i in range(1, len(sorted_results)):\n",
    "        # Define a vertical threshold = half of the height of the first text in the line\n",
    "        # Use the y-coordinate of the first item in the current line as a reference\n",
    "        if abs(get_y_coordinate(sorted_results[i]) - get_y_coordinate(current_line[0])) < (current_line[0][0][3][1]-current_line[0][0][0][1])/2:\n",
    "            current_line.append(sorted_results[i])\n",
    "        else:\n",
    "            lines.append(sorted(current_line, key=lambda x: x[0][0][0]))  # Sort current line by x-coordinate\n",
    "            current_line = [sorted_results[i]]\n",
    "    lines.append(current_line) # Add the last line"
   ]
  },
  {
   "cell_type": "code",
   "execution_count": 9,
   "id": "2e773990",
   "metadata": {},
   "outputs": [
    {
     "name": "stdout",
     "output_type": "stream",
     "text": [
      "\n",
      "Extracted Text by Lines:\n",
      "Registration Form\n",
      "Name:Ananya Sharma\n",
      "Age:29\n",
      "Gender:Female\n",
      "Address:123, MG Road; Bengaluru; Karnataka - 560001\n",
      "Email Id:ananya sharma@example.com\n",
      "Phone number:+91-9876543210\n"
     ]
    }
   ],
   "source": [
    "print(\"\\nExtracted Text by Lines:\")\n",
    "for line in lines:\n",
    "    line_text = ':'.join([item[1] for item in line])\n",
    "    print(line_text)"
   ]
  },
  {
   "cell_type": "code",
   "execution_count": null,
   "id": "a85a20b7",
   "metadata": {},
   "outputs": [
    {
     "name": "stdout",
     "output_type": "stream",
     "text": [
      "yes\n"
     ]
    }
   ],
   "source": []
  }
 ],
 "metadata": {
  "kernelspec": {
   "display_name": "Python 3",
   "language": "python",
   "name": "python3"
  },
  "language_info": {
   "codemirror_mode": {
    "name": "ipython",
    "version": 3
   },
   "file_extension": ".py",
   "mimetype": "text/x-python",
   "name": "python",
   "nbconvert_exporter": "python",
   "pygments_lexer": "ipython3",
   "version": "3.13.7"
  }
 },
 "nbformat": 4,
 "nbformat_minor": 5
}
